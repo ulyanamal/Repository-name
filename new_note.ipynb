{
  "nbformat": 4,
  "nbformat_minor": 0,
  "metadata": {
    "colab": {
      "provenance": [],
      "authorship_tag": "ABX9TyPmkklhAieEQQdYLoMxYLqY",
      "include_colab_link": true
    },
    "kernelspec": {
      "name": "python3",
      "display_name": "Python 3"
    },
    "language_info": {
      "name": "python"
    }
  },
  "cells": [
    {
      "cell_type": "markdown",
      "metadata": {
        "id": "view-in-github",
        "colab_type": "text"
      },
      "source": [
        "<a href=\"https://colab.research.google.com/github/ulyanamal/Repository-name/blob/main/new_note.ipynb\" target=\"_parent\"><img src=\"https://colab.research.google.com/assets/colab-badge.svg\" alt=\"Open In Colab\"/></a>"
      ]
    },
    {
      "cell_type": "code",
      "source": [
        "name = input(\"Как тебя зовут? \")\n",
        "age = int(input(\"Сколько тебе лет? \"))\n",
        "print(f\"Привет, {name}! Тебе {age} лет.\")\n",
        "print(\"Хорошего дня!\")\n",
        "\n"
      ],
      "metadata": {
        "id": "S_KfnFAl487-"
      },
      "execution_count": null,
      "outputs": []
    }
  ]
}